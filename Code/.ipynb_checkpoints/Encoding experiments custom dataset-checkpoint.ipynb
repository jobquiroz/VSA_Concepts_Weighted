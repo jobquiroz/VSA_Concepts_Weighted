{
 "cells": [
  {
   "cell_type": "markdown",
   "metadata": {},
   "source": [
    "# Encoding experiments\n",
    "\n",
    "In this notebook we perform different ways to encode the concepts' features based on *Rank_PF*, *Disting*, and *Intercorr_str_tax*. \n",
    "This notebooks uses the generated custom dataset... \n",
    "\n",
    "## Header\n",
    "\n",
    "Libraries and additional programs"
   ]
  },
  {
   "cell_type": "code",
   "execution_count": 59,
   "metadata": {},
   "outputs": [
    {
     "name": "stdout",
     "output_type": "stream",
     "text": [
      "\n"
     ]
    }
   ],
   "source": [
    "import matplotlib\n",
    "import matplotlib.pyplot as plt\n",
    "import pandas as pd\n",
    "import numpy\n",
    "import random\n",
    "from scipy.stats.stats import pearsonr\n",
    "\n",
    "%matplotlib inline\n",
    "\n",
    "pathh = '../Data/' \n",
    "exp_file = '../Data/ExperimentalResults.xlsx'   "
   ]
  },
  {
   "cell_type": "markdown",
   "metadata": {},
   "source": [
    "## Benchmarks\n",
    "\n",
    "### a) Visualizing benchmark"
   ]
  },
  {
   "cell_type": "code",
   "execution_count": 60,
   "metadata": {},
   "outputs": [
    {
     "data": {
      "image/png": "[encoded data removed]",
      "text/plain": [
       "<matplotlib.figure.Figure at 0x69f31b38>"
      ]
     },
     "metadata": {},
     "output_type": "display_data"
    }
   ],
   "source": [
    "def ListConcepts ():\n",
    "    \"Read an excel file and returns a list of pairs of concepts with its similarity value (according to humans)\"\n",
    "    df = pd.read_excel(exp_file)\n",
    "    concepts_sim = df[['concept 1','concept 2', 'Q1']]\n",
    "    concepts_sim = concepts_sim.values.tolist() #converting to list...\n",
    "    concepts_sim = list(map(lambda x: [str(x[0]), str(x[1]), x[2]], concepts_sim))\n",
    "    return concepts_sim\n",
    "\n",
    "def ListNames (PairConcepts):\n",
    "    \"Given the list of pairs of concepts. It returns a list of the concept names without repetition\"\n",
    "    L = set([])\n",
    "    for x in PairConcepts:\n",
    "        L.add(x[0])\n",
    "        L.add(x[1])\n",
    "    return sorted(list(L))\n",
    "\n",
    "\n",
    "\n",
    "Concepts_benchmark = ListConcepts()\n",
    "# Sorting by similarity x[2]\n",
    "Concepts_benchmark = sorted(Concepts_benchmark, key = lambda x : x[2])\n",
    "\n",
    "concepts_pairs = [x[:2] for x in Concepts_benchmark]\n",
    "concepts_sim = [x[2] for x in Concepts_benchmark]\n",
    "concepts_names = ListNames(concepts_pairs)\n",
    "\n",
    "# Plotting\n",
    "x = np.array(range(64))\n",
    "plt.rcParams[\"figure.figsize\"] = [12,8]\n",
    "plt.plot(concepts_sim, color='k', linestyle='-', marker='.', markersize=6, linewidth=.3 )  \n",
    "plt.xlim((0,64))\n",
    "plt.xlabel('Pair number', fontsize=18)\n",
    "plt.ylabel('Semantic similarity', fontsize=18)\n",
    "plt.grid(True)\n",
    "plt.savefig('HumSim.png', dpi=300)"
   ]
  },
  {
   "cell_type": "markdown",
   "metadata": {},
   "source": [
    "### b) Encoding dataset"
   ]
  },
  {
   "cell_type": "code",
   "execution_count": 61,
   "metadata": {},
   "outputs": [
    {
     "name": "stdout",
     "output_type": "stream",
     "text": [
      "End of memory initialization\n",
      "Begining to encode dataset...\n",
      "End of encoding\n"
     ]
    }
   ],
   "source": [
    "%run EncodingDataset.ipynb\n",
    "\n",
    "# Getting concept names to encode (from dataset...)\n",
    "Init_mem('normal', 100, concepts_names)\n",
    "\n",
    "# List of all concepts in dataset\n",
    "Concepts = get_concepts_list() "
   ]
  },
  {
   "cell_type": "markdown",
   "metadata": {},
   "source": [
    "### c) Measuring similarity\n",
    "\n",
    "In this cell we measure the similarity of each pair of concepts with each similarity measure."
   ]
  },
  {
   "cell_type": "code",
   "execution_count": null,
   "metadata": {},
   "outputs": [
    {
     "name": "stdout",
     "output_type": "stream",
     "text": [
      "Starting...\n",
      "0 1 2 3 4 5 6 7 8 9"
     ]
    }
   ],
   "source": [
    "# Create dictionary of distances for each method\n",
    "HD_sim = []; McRae_sim = []; WUP_sim = []; LCH_sim = []; Res_sim = []; JCN_sim = []\n",
    "\n",
    "# Loop over all pairs of concepts\n",
    "i = 0\n",
    "print \"Starting...\"\n",
    "for pair in concepts_pairs:\n",
    "    print i,\n",
    "    HD_sim.append(1. - HDvector.dist(Dict[pair[0]].getPointer(), Dict[pair[1]].getPointer()) / float(N))\n",
    "    McRae_sim.append( McRae_simi(pair) )\n",
    "    WUP_sim.append(similarity_fun(wn.wup_similarity, pair))\n",
    "    LCH_sim.append(similarity_fun(wn.lch_similarity, pair))\n",
    "    Res_sim.append(similarity_fun(wn.res_similarity, pair, brown_ic))\n",
    "    JCN_sim.append(similarity_fun(wn.jcn_similarity, pair, brown_ic))\n",
    "    i += 1\n",
    "print \"\\nDone!\""
   ]
  },
  {
   "cell_type": "markdown",
   "metadata": {},
   "source": [
    "### d) Computing correlations"
   ]
  },
  {
   "cell_type": "code",
   "execution_count": null,
   "metadata": {
    "scrolled": true
   },
   "outputs": [],
   "source": [
    "# Calculate correlations\n",
    "correlations = [['HDC', pearsonr(concepts_sim, HD_sim)[0]], ['McRae', pearsonr(concepts_sim, McRae_sim)[0]],\n",
    "                ['wup', pearsonr(concepts_sim, wup_sim)[0]], ['lch', pearsonr(concepts_sim, lch_sim)[0]],\n",
    "                ['res', pearsonr(concepts_sim, res_sim)[0]], ['jcn', pearsonr(concepts_sim, jcn_sim)[0]]]\n",
    "\n",
    "print sorted(correlations, key = lambda x: x[1], reverse = True)"
   ]
  },
  {
   "cell_type": "markdown",
   "metadata": {},
   "source": [
    "### e) Plotting"
   ]
  },
  {
   "cell_type": "code",
   "execution_count": null,
   "metadata": {},
   "outputs": [],
   "source": [
    "# Plotting\n",
    "plt.rcParams[\"figure.figsize\"] = [20,12]\n",
    "f_size = 18\n",
    "\n",
    "plt.subplots_adjust(hspace=0.4)\n",
    "plt.subplot(231)\n",
    "plt.plot(HD_sim, color='k', linestyle='None', marker='x', markersize=7, linewidth=1 )  \n",
    "\n",
    "plt.title('VSA', fontsize=f_size)\n",
    "plt.xlabel('Pair number', fontsize=f_size)\n",
    "plt.ylabel('Semantic similarity', fontsize=f_size)\n",
    "plt.grid(True)\n",
    "\n",
    "plt.subplot(232)\n",
    "plt.plot(res_sim, color='k', linestyle='None', marker='.', markersize=9, linewidth=1 )  \n",
    "plt.title('Resnik', fontsize=f_size)\n",
    "plt.xlabel('Pair number', fontsize=f_size)\n",
    "plt.ylabel('Semantic similarity', fontsize=f_size)\n",
    "plt.grid(True)\n",
    "\n",
    "plt.subplot(233)\n",
    "plt.plot(McRae_sim, color='k', linestyle='None', marker='^', markersize=6, linewidth=1 )  \n",
    "plt.title('McRae', fontsize=f_size)\n",
    "plt.xlabel('Pair number', fontsize=f_size)\n",
    "plt.ylabel('Semantic similarity', fontsize=f_size)\n",
    "plt.grid(True)\n",
    "\n",
    "plt.subplot(234)\n",
    "plt.plot(jcn_sim, color='k', linestyle='None', marker='+', markersize=8, linewidth=1 )  \n",
    "plt.title('Jiang & Conrath', fontsize=f_size)\n",
    "plt.xlabel('Pair number', fontsize=f_size)\n",
    "plt.ylabel('Semantic similarity', fontsize=f_size)\n",
    "plt.grid(True)\n",
    "\n",
    "plt.subplot(235)\n",
    "plt.plot(lch_sim, color='k', linestyle='None', marker='*', markersize=7, linewidth=1 )  \n",
    "plt.title('Leacock & Chodorow', fontsize=f_size)\n",
    "plt.xlabel('Pair number', fontsize=f_size)\n",
    "plt.ylabel('Semantic similarity', fontsize=f_size)\n",
    "plt.grid(True)\n",
    "\n",
    "plt.subplot(236)\n",
    "plt.plot(wup_sim, color='k', linestyle='None', marker='.', markersize=8, linewidth=1 )  \n",
    "plt.title('Wu & Palmer', fontsize=f_size)\n",
    "plt.xlabel('Pair number', fontsize=f_size)\n",
    "plt.ylabel('Semantic similarity', fontsize=f_size)\n",
    "plt.grid(True)\n",
    "\n",
    "\n",
    "plt.savefig('SubPlots.png') #, dpi=1000)"
   ]
  },
  {
   "cell_type": "markdown",
   "metadata": {},
   "source": [
    "## Testing weighted HDC representations\n",
    "\n",
    "Here we find the correlation between the similarity values obtained from the HDC weighted representations and the dataset."
   ]
  },
  {
   "cell_type": "code",
   "execution_count": null,
   "metadata": {},
   "outputs": [],
   "source": [
    "for mode in ['normal','Rank_PF','Disting','Intercorr_str', 'Intercorr-Rank']:\n",
    "    for num_f in [6, 8, 10, 12, 15, 20]: #añadir más??\n",
    "        # Printing current mode:\n",
    "        print \"\\n\\nMode:\", mode, \"number of features:\", num_f\n",
    "        # Initialize memory\n",
    "        Init_mem( mode, num_f) \n",
    "        # Create list of distances\n",
    "        HD_sim = []\n",
    "        # Loop over all pairs of concepts\n",
    "        i = 0\n",
    "        print \"Starting...\"\n",
    "        for pair in concepts_sim:\n",
    "            print i,\n",
    "            HD_sim.append( 1. - HDvector.dist(Dict[pair[0]].getPointer(), Dict[pair[1]].getPointer()) / float(N) )\n",
    "            i += 1\n",
    "        print \"\\nDone!\"\n",
    "        \n",
    "        correlation= pearsonr(concepts_sim_values, HD_sim)[0]\n",
    "        print \"Correlation value: \", correlation"
   ]
  }
 ],
 "metadata": {
  "kernelspec": {
   "display_name": "Python 2",
   "language": "python",
   "name": "python2"
  },
  "language_info": {
   "codemirror_mode": {
    "name": "ipython",
    "version": 2
   },
   "file_extension": ".py",
   "mimetype": "text/x-python",
   "name": "python",
   "nbconvert_exporter": "python",
   "pygments_lexer": "ipython2",
   "version": "2.7.14"
  }
 },
 "nbformat": 4,
 "nbformat_minor": 2
}
