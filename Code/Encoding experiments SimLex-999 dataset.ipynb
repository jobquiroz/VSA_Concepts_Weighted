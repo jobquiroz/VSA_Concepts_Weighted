{
 "cells": [
  {
   "cell_type": "markdown",
   "metadata": {},
   "source": [
    "# Experiments\n",
    "\n",
    "In this notebook we perform different ways to encode the concepts' features based on *Rank_PF*, *Disting*, and *Intercorr_str_tax*. \n",
    "This notebooks uses the SimLex-999 dataset... \n",
    "\n",
    "## Header\n",
    "\n",
    "Libraries and additional programs"
   ]
  },
  {
   "cell_type": "code",
   "execution_count": 27,
   "metadata": {},
   "outputs": [
    {
     "name": "stdout",
     "output_type": "stream",
     "text": [
      "\n"
     ]
    }
   ],
   "source": [
    "import matplotlib\n",
    "import matplotlib.pyplot as plt\n",
    "import pandas as pd\n",
    "import numpy\n",
    "import random\n",
    "from scipy.stats.stats import pearsonr\n",
    "\n",
    "%matplotlib inline\n",
    "\n",
    "pathh = '../Data/' \n",
    "exp_file = '../Data/ExperimentalResults.xlsx'   "
   ]
  },
  {
   "cell_type": "markdown",
   "metadata": {},
   "source": [
    "## SimLex-999 dataset\n",
    "\n",
    "_SimLex-999 is a gold standard resource for the evaluation of models that learn the meaning of words and concepts. \n",
    "SimLex-999 provides a way of measuring how well models capture similarity, rather than relatedness or association. The scores in SimLex-999 therefore differ from other well-known evaluation datasets such as WordSim-353. Example:_\n",
    "\n",
    "**coast - shore**   9.000 (SimLex-999 rating)    9.1 (WordSim-353 rating)\n",
    "\n",
    "**clothes - closet**  1.96 (SimLex-999 rating)   9.1 (WordSim-353 rating)\n",
    "\n",
    "_More information: https://fh295.github.io/simlex.html_\n",
    "\n",
    "Just as with the previous dataset, first we find out how many pairs are there for which both concepts appear in the McRae dataset. "
   ]
  },
  {
   "cell_type": "code",
   "execution_count": 28,
   "metadata": {},
   "outputs": [
    {
     "name": "stdout",
     "output_type": "stream",
     "text": [
      "[['car', 'hose', 0.87], ['car', 'bridge', 0.95], ['car', 'elevator', 1.03], ['mouse', 'cat', 1.12], ['box', 'cigar', 1.25], ['box', 'elevator', 1.32], ['house', 'carpet', 1.38], ['chicken', 'rice', 1.43], ['ball', 'basket', 1.67], ['dog', 'cat', 1.75], ['house', 'key', 1.9], ['bread', 'cheese', 1.95], ['door', 'cellar', 1.97], ['spoon', 'cup', 2.02], ['boat', 'anchor', 2.25], ['boat', 'car', 2.37], ['cat', 'rabbit', 2.37], ['dog', 'horse', 2.38], ['ball', 'cannon', 2.58], ['cow', 'goat', 2.93], ['horse', 'ox', 3.02], ['bed', 'bedroom', 3.4], ['bed', 'couch', 3.42], ['bed', 'chair', 3.5], ['gun', 'knife', 3.65], ['guitar', 'drum', 3.78], ['apple', 'lemon', 4.05], ['house', 'barn', 4.33], ['wall', 'brick', 4.68], ['calf', 'bull', 4.93], ['cup', 'jar', 5.13], ['plate', 'bowl', 5.23], ['door', 'gate', 5.25], ['gun', 'cannon', 5.68], ['house', 'apartment', 5.8], ['cabin', 'hut', 6.53], ['chair', 'bench', 6.67], ['sofa', 'chair', 6.67], ['cat', 'lion', 6.75], ['sweater', 'jacket', 7.15], ['cottage', 'cabin', 7.72], ['rat', 'mouse', 7.78], ['jar', 'bottle', 7.83], ['sheep', 'lamb', 8.42]]\n"
     ]
    }
   ],
   "source": [
    "def ListConcepts():\n",
    "    \"Read an excel file and returns a list of pairs of concepts with its similarity value (according to humans)\"\n",
    "    SimLex_path = \"../Data/SimLex-999.txt\"\n",
    "    SimLex_file = open(SimLex_path, \"r\")\n",
    "    SimLex = SimLex_file.readlines()\n",
    "    SimLex = [str.split(x) for x in SimLex][1:]   # Removed first line (column's names)\n",
    "\n",
    "    #We are interested in the first elements of each line (row)\n",
    "    SimLexList = []\n",
    "    for row in SimLex:\n",
    "        if row[0] in Concepts and row[1] in Concepts and row[2] == 'N':\n",
    "            SimLexList.append([row[0], row[1], float(row[3])])\n",
    "    \n",
    "    return sorted(SimLexList, key = lambda x: x[2])\n",
    "            \n",
    "def ListNames (PairConcepts):\n",
    "    \"Given the list of pairs of concepts. It returns a list of the concept names without repetition\"\n",
    "    L = set([])\n",
    "    for x in PairConcepts:\n",
    "        L.add(x[0])\n",
    "        L.add(x[1])\n",
    "    return sorted(list(L))\n",
    "\n",
    "\n",
    "SimLexList = ListConcepts()\n",
    "\n",
    "SimLex_sim = [x[2] for x in SimLexList]\n",
    "SimLex_names = ListNames(SimLexList)\n",
    "print SimLexList"
   ]
  },
  {
   "cell_type": "markdown",
   "metadata": {},
   "source": [
    "### a) Visualizing dataset"
   ]
  },
  {
   "cell_type": "code",
   "execution_count": 29,
   "metadata": {},
   "outputs": [
    {
     "data": {
      "image/png": "[encoded data removed]",
      "text/plain": [
       "<matplotlib.figure.Figure at 0xec41588>"
      ]
     },
     "metadata": {},
     "output_type": "display_data"
    }
   ],
   "source": [
    "plt.rcParams[\"figure.figsize\"] = [12,8]\n",
    "plt.plot([x[2] for x in SimLexList], color='k', linestyle='-', marker='.', markersize=6, linewidth=.3 )  \n",
    "plt.xlim((0,44))\n",
    "plt.ylim((0,9))\n",
    "plt.xlabel('Pair number', fontsize=18)\n",
    "plt.ylabel('Semantic similarity', fontsize=18)\n",
    "plt.grid(True)\n",
    "plt.savefig('HumSim-SimLex.png', dpi=300)"
   ]
  },
  {
   "cell_type": "markdown",
   "metadata": {},
   "source": [
    "### b) Encoding dataset"
   ]
  },
  {
   "cell_type": "code",
   "execution_count": null,
   "metadata": {},
   "outputs": [
    {
     "name": "stdout",
     "output_type": "stream",
     "text": [
      "End of memory initialization\n",
      "Begining to encode dataset...\n",
      "End of encoding\n"
     ]
    }
   ],
   "source": [
    "%run EncodingDataset.ipynb\n",
    "\n",
    "Init_mem('normal', 100, SimLex_names)\n",
    "\n",
    "# List of all concepts in dataset\n",
    "#Concepts = get_concepts_list() "
   ]
  },
  {
   "cell_type": "markdown",
   "metadata": {},
   "source": [
    "### c) Measuring similarity"
   ]
  },
  {
   "cell_type": "code",
   "execution_count": null,
   "metadata": {},
   "outputs": [
    {
     "name": "stdout",
     "output_type": "stream",
     "text": [
      "Starting...\n",
      "0 1 2 3 4 5 6 7 8 9 10 11 12"
     ]
    }
   ],
   "source": [
    "# Create list of distances for each method\n",
    "HD_SimLex = []; McRae_SimLex = []; WUP_SimLex = []; LCH_SimLex = []; RES_SimLex = []; JCN_SimLex = []\n",
    "\n",
    "# Loop over all pairs of concepts\n",
    "i = 0\n",
    "print \"Starting...\"\n",
    "for pair in SimLexList:\n",
    "    print i,\n",
    "    HD_SimLex.append(1. - HDvector.dist(Dict[pair[0]].getPointer(), Dict[pair[1]].getPointer()) / float(N))\n",
    "    McRae_SimLex.append( McRae_simi(pair[0:2]) )\n",
    "    WUP_SimLex.append(similarity_fun(wn.wup_similarity, pair[0:2]))\n",
    "    LCH_SimLex.append(similarity_fun(wn.lch_similarity, pair[0:2]))\n",
    "    RES_SimLex.append(similarity_fun(wn.res_similarity, pair[0:2], brown_ic))\n",
    "    JCN_SimLex.append(similarity_fun(wn.jcn_similarity, pair[0:2], brown_ic))\n",
    "    i += 1\n",
    "print \"End\""
   ]
  },
  {
   "cell_type": "markdown",
   "metadata": {},
   "source": [
    "### d) Computing correlation"
   ]
  },
  {
   "cell_type": "code",
   "execution_count": null,
   "metadata": {},
   "outputs": [],
   "source": [
    "correlations = [['HDC', pearsonr(SimLex_sim, HD_SimLex)[0]], ['McRae', pearsonr(SimLex_sim, McRae_SimLex)[0]],\n",
    "                ['wup', pearsonr(SimLex_sim, WUP_SimLex)[0]], ['lch', pearsonr(SimLex_sim, LCH_SimLex)[0]],\n",
    "                ['res', pearsonr(SimLex_sim, RES_SimLex)[0]], ['jcn', pearsonr(SimLex_sim, JCN_SimLex)[0]]]\n",
    "\n",
    "print sorted(correlations, key = lambda x : x[1], reverse = True)"
   ]
  },
  {
   "cell_type": "markdown",
   "metadata": {},
   "source": [
    "### d) Plotting"
   ]
  },
  {
   "cell_type": "code",
   "execution_count": null,
   "metadata": {},
   "outputs": [],
   "source": [
    "plt.rcParams[\"figure.figsize\"] = [20,12]\n",
    "f_size = 18\n",
    "plt.subplots_adjust(hspace=0.4)\n",
    "\n",
    "plt.subplot(231)\n",
    "plt.plot(HD_SimLex, color='k', linestyle='None', marker='x', markersize=7, linewidth=1 )  \n",
    "plt.title('VSA', fontsize=f_size)\n",
    "plt.xlabel('Pair number', fontsize=f_size)\n",
    "plt.ylabel('Semantic similarity', fontsize=f_size)\n",
    "plt.grid(True)\n",
    "\n",
    "plt.subplot(232)\n",
    "plt.plot(McRae_SimLex, color='k', linestyle='None', marker='^', markersize=6, linewidth=1 )  \n",
    "plt.title('McRae', fontsize=f_size)\n",
    "plt.xlabel('Pair number', fontsize=f_size)\n",
    "plt.ylabel('Semantic similarity', fontsize=f_size)\n",
    "plt.grid(True)\n",
    "\n",
    "\n",
    "plt.subplot(233)\n",
    "plt.plot(RES_SimLex, color='k', linestyle='None', marker='.', markersize=9, linewidth=1 )  \n",
    "plt.title('Resnik', fontsize=f_size)\n",
    "plt.xlabel('Pair number', fontsize=f_size)\n",
    "plt.ylabel('Semantic similarity', fontsize=f_size)\n",
    "plt.grid(True)\n",
    "\n",
    "plt.subplot(234)\n",
    "plt.plot(LCH_SimLex, color='k', linestyle='None', marker='*', markersize=7, linewidth=1 )  \n",
    "plt.title('Leacock & Chodorow', fontsize=f_size)\n",
    "plt.xlabel('Pair number', fontsize=f_size)\n",
    "plt.ylabel('Semantic similarity', fontsize=f_size)\n",
    "plt.grid(True)\n",
    "\n",
    "plt.subplot(235)\n",
    "plt.plot(WUP_SimLex, color='k', linestyle='None', marker='.', markersize=8, linewidth=1 )  \n",
    "plt.title('Wu & Palmer', fontsize=f_size)\n",
    "plt.xlabel('Pair number', fontsize=f_size)\n",
    "plt.ylabel('Semantic similarity', fontsize=f_size)\n",
    "plt.grid(True)\n",
    "\n",
    "plt.subplot(236)\n",
    "plt.plot(JCN_SimLex, color='k', linestyle='None', marker='+', markersize=8, linewidth=1 )  \n",
    "plt.title('Jiang & Conrath', fontsize=f_size)\n",
    "plt.xlabel('Pair number', fontsize=f_size)\n",
    "plt.ylabel('Semantic similarity', fontsize=f_size)\n",
    "plt.grid(True)\n",
    "\n",
    "plt.savefig('SubPlots-SimLex.png') #, dpi=1000)"
   ]
  },
  {
   "cell_type": "markdown",
   "metadata": {},
   "source": [
    "## Testing weighted HDC representations\n",
    "\n",
    "Here we find the correlation between the similarity values obtained from the HDC weighted representations and the dataset."
   ]
  },
  {
   "cell_type": "code",
   "execution_count": null,
   "metadata": {},
   "outputs": [],
   "source": [
    "for mode in ['normal','Rank_PF','Disting','Intercorr_str', 'Intercorr-Rank']:\n",
    "    for num_f in [6, 8, 10, 12, 15, 20]: #añadir más... \n",
    "        # Printing current mode:\n",
    "        print \"\\n\\nMode:\", mode, \"number of features:\", num_f\n",
    "        # Initialize memory\n",
    "        Init_mem( mode, num_f, SimLex_names) \n",
    "        # Create list of distances\n",
    "        HD_SimLex = []\n",
    "        # Loop over all pairs of concepts\n",
    "        i = 0\n",
    "        print \"Starting...\"\n",
    "        for pair in SimLexList:\n",
    "            print i,\n",
    "            HD_SimLex.append(1. - HDvector.dist(Dict[pair[0]].getPointer(), Dict[pair[1]].getPointer()) / float(N))\n",
    "            i += 1\n",
    "        print \"\\nDone!\"\n",
    "        \n",
    "        correlation= pearsonr(SimLex_sim, HD_SimLex)[0]\n",
    "        print \"Correlation value: \", correlation"
   ]
  }
 ],
 "metadata": {
  "kernelspec": {
   "display_name": "Python 2",
   "language": "python",
   "name": "python2"
  },
  "language_info": {
   "codemirror_mode": {
    "name": "ipython",
    "version": 2
   },
   "file_extension": ".py",
   "mimetype": "text/x-python",
   "name": "python",
   "nbconvert_exporter": "python",
   "pygments_lexer": "ipython2",
   "version": "2.7.14"
  }
 },
 "nbformat": 4,
 "nbformat_minor": 2
}
